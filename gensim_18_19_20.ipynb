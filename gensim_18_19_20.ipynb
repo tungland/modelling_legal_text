{
 "cells": [
  {
   "cell_type": "markdown",
   "source": [
    "# Run a gensim on Official Journal Data from 2018, 2019, 2020"
   ],
   "metadata": {}
  },
  {
   "cell_type": "markdown",
   "source": [],
   "metadata": {}
  },
  {
   "cell_type": "code",
   "execution_count": null,
   "source": [
    "import re\n",
    "import numpy as np\n",
    "import pandas as pd\n",
    "from pprint import pprint\n",
    "import os\n",
    "from bs4 import BeautifulSoup as bs\n",
    "import pandas as pd\n",
    "import glob\n",
    "\n",
    "\n",
    "# Gensim\n",
    "import gensim\n",
    "import gensim.corpora as corpora\n",
    "from gensim.utils import simple_preprocess\n",
    "from gensim.models import CoherenceModel\n",
    "\n",
    "# spacy for lemmatization\n",
    "import spacy\n",
    "\n",
    "# Plotting tools\n",
    "import pyLDAvis\n",
    "#import pyLDAvis.gensim  # don't skip this\n",
    "import pyLDAvis.gensim_models\n",
    "import matplotlib.pyplot as plt\n",
    "%matplotlib inline\n",
    "\n",
    "# Enable logging for gensim - optional\n",
    "import logging\n",
    "logging.basicConfig(format='%(asctime)s : %(levelname)s : %(message)s', level=logging.ERROR)\n",
    "\n",
    "import warnings\n",
    "warnings.filterwarnings(\"ignore\",category=DeprecationWarning)"
   ],
   "outputs": [],
   "metadata": {}
  },
  {
   "cell_type": "code",
   "execution_count": 2,
   "source": [
    "# NLTK Stop words\n",
    "from nltk.corpus import stopwords\n",
    "stop_words = stopwords.words('english')\n",
    "stop_words.extend(['from', 'subject', 're', 'edu', 'use'])"
   ],
   "outputs": [],
   "metadata": {}
  },
  {
   "cell_type": "markdown",
   "source": [
    "## Import data"
   ],
   "metadata": {}
  },
  {
   "cell_type": "code",
   "execution_count": 3,
   "source": [
    "filepaths = []\n",
    "for filepath in glob.iglob(r'OJ_data/*/*', recursive=True ):\n",
    "    print (filepath)\n",
    "    filepaths.append(filepath)"
   ],
   "outputs": [
    {
     "output_type": "stream",
     "name": "stdout",
     "text": [
      "OJ_data/2020/c_entries_20.csv\n",
      "OJ_data/2020/l_entries_20.csv\n",
      "OJ_data/2019/c_texts_2019.csv\n",
      "OJ_data/2019/legislation_text_2019.csv\n",
      "OJ_data/2018/c_entries_18.csv\n",
      "OJ_data/2018/l_entries_18.csv\n"
     ]
    }
   ],
   "metadata": {}
  },
  {
   "cell_type": "code",
   "execution_count": 4,
   "source": [
    "dfs = []\n",
    "for file in filepaths:\n",
    "    dfs.append(pd.read_csv(file))"
   ],
   "outputs": [],
   "metadata": {}
  },
  {
   "cell_type": "code",
   "execution_count": 5,
   "source": [
    "big_df = pd.concat(dfs, ignore_index=True)"
   ],
   "outputs": [],
   "metadata": {}
  },
  {
   "cell_type": "code",
   "execution_count": 6,
   "source": [
    "data = list(big_df['text'])"
   ],
   "outputs": [],
   "metadata": {}
  },
  {
   "cell_type": "markdown",
   "source": [
    "## Data clean"
   ],
   "metadata": {}
  },
  {
   "cell_type": "code",
   "execution_count": 7,
   "source": [
    "# Remove new line characters\n",
    "data = [re.sub('\\s+', ' ', sent) for sent in data]"
   ],
   "outputs": [],
   "metadata": {}
  },
  {
   "cell_type": "markdown",
   "source": [
    "## Tokenize"
   ],
   "metadata": {}
  },
  {
   "cell_type": "code",
   "execution_count": 8,
   "source": [
    "def sent_to_words(sentences):\n",
    "    for sentence in sentences:\n",
    "        gensim.parsing.preprocessing.strip_non_alphanum\n",
    "        yield(gensim.utils.simple_preprocess(gensim.parsing.preprocessing.strip_non_alphanum(str(sentence)).encode('utf-8'), deacc=True))  # deacc=True removes punctuations\n",
    "\n",
    "data_words = list(sent_to_words(data))\n",
    "print(data_words[:1])"
   ],
   "outputs": [
    {
     "output_type": "stream",
     "name": "stdout",
     "text": [
      "[['official', 'journal', 'issn', 'official', 'journal', 'of', 'the', 'european', 'union', 'english', 'edition', 'information', 'and', 'notices', 'volume', 'january', 'contents', 'page', 'iv', 'notices', 'notices', 'from', 'european', 'union', 'institutions', 'bodies', 'offices', 'and', 'agencies', 'european', 'commission', 'euro', 'exchange', 'rates', 'december', 'euro', 'exchange', 'rates', 'december', 'euro', 'exchange', 'rates', 'january', 'announcements', 'procedures', 'relating', 'to', 'the', 'implementation', 'of', 'competition', 'policy', 'european', 'commission', 'prior', 'notification', 'of', 'concentration', 'case', 'astorg', 'nordic', 'capital', 'novo', 'ert', 'candidate', 'case', 'for', 'simplified', 'procedure', 'text', 'with', 'eea', 'relevance', 'en', 'iv', 'notices', 'notices', 'from', 'european', 'union', 'institutions', 'bodies', 'offices', 'and', 'agencies', 'european', 'commission', 'en', 'official', 'journal', 'of', 'the', 'european', 'union', 'euro', 'exchange', 'rates', 'december', 'euro', 'currency', 'exchange', 'rate', 'usd', 'us', 'dollar', 'jpy', 'japanese', 'yen', 'dkk', 'danish', 'krone', 'gbp', 'pound', 'sterling', 'sek', 'swedish', 'krona', 'chf', 'swiss', 'franc', 'isk', 'iceland', 'krona', 'nok', 'norwegian', 'krone', 'bgn', 'bulgarian', 'lev', 'czk', 'czech', 'koruna', 'huf', 'hungarian', 'forint', 'pln', 'polish', 'zloty', 'ron', 'romanian', 'leu', 'try', 'turkish', 'lira', 'aud', 'australian', 'dollar', 'cad', 'canadian', 'dollar', 'hkd', 'hong', 'kong', 'dollar', 'nzd', 'new', 'zealand', 'dollar', 'sgd', 'singapore', 'dollar', 'krw', 'south', 'korean', 'won', 'zar', 'south', 'african', 'rand', 'cny', 'chinese', 'yuan', 'renminbi', 'hrk', 'croatian', 'kuna', 'idr', 'indonesian', 'rupiah', 'myr', 'malaysian', 'ringgit', 'php', 'philippine', 'peso', 'rub', 'russian', 'rouble', 'thb', 'thai', 'baht', 'brl', 'brazilian', 'real', 'mxn', 'mexican', 'peso', 'inr', 'indian', 'rupee', 'source', 'reference', 'exchange', 'rate', 'published', 'by', 'the', 'ecb', 'en', 'official', 'journal', 'of', 'the', 'european', 'union', 'euro', 'exchange', 'rates', 'december', 'euro', 'currency', 'exchange', 'rate', 'usd', 'us', 'dollar', 'jpy', 'japanese', 'yen', 'dkk', 'danish', 'krone', 'gbp', 'pound', 'sterling', 'sek', 'swedish', 'krona', 'chf', 'swiss', 'franc', 'isk', 'iceland', 'krona', 'nok', 'norwegian', 'krone', 'bgn', 'bulgarian', 'lev', 'czk', 'czech', 'koruna', 'huf', 'hungarian', 'forint', 'pln', 'polish', 'zloty', 'ron', 'romanian', 'leu', 'try', 'turkish', 'lira', 'aud', 'australian', 'dollar', 'cad', 'canadian', 'dollar', 'hkd', 'hong', 'kong', 'dollar', 'nzd', 'new', 'zealand', 'dollar', 'sgd', 'singapore', 'dollar', 'krw', 'south', 'korean', 'won', 'zar', 'south', 'african', 'rand', 'cny', 'chinese', 'yuan', 'renminbi', 'hrk', 'croatian', 'kuna', 'idr', 'indonesian', 'rupiah', 'myr', 'malaysian', 'ringgit', 'php', 'philippine', 'peso', 'rub', 'russian', 'rouble', 'thb', 'thai', 'baht', 'brl', 'brazilian', 'real', 'mxn', 'mexican', 'peso', 'inr', 'indian', 'rupee', 'source', 'reference', 'exchange', 'rate', 'published', 'by', 'the', 'ecb', 'en', 'official', 'journal', 'of', 'the', 'european', 'union', 'euro', 'exchange', 'rates', 'january', 'euro', 'currency', 'exchange', 'rate', 'usd', 'us', 'dollar', 'jpy', 'japanese', 'yen', 'dkk', 'danish', 'krone', 'gbp', 'pound', 'sterling', 'sek', 'swedish', 'krona', 'chf', 'swiss', 'franc', 'isk', 'iceland', 'krona', 'nok', 'norwegian', 'krone', 'bgn', 'bulgarian', 'lev', 'czk', 'czech', 'koruna', 'huf', 'hungarian', 'forint', 'pln', 'polish', 'zloty', 'ron', 'romanian', 'leu', 'try', 'turkish', 'lira', 'aud', 'australian', 'dollar', 'cad', 'canadian', 'dollar', 'hkd', 'hong', 'kong', 'dollar', 'nzd', 'new', 'zealand', 'dollar', 'sgd', 'singapore', 'dollar', 'krw', 'south', 'korean', 'won', 'zar', 'south', 'african', 'rand', 'cny', 'chinese', 'yuan', 'renminbi', 'hrk', 'croatian', 'kuna', 'idr', 'indonesian', 'rupiah', 'myr', 'malaysian', 'ringgit', 'php', 'philippine', 'peso', 'rub', 'russian', 'rouble', 'thb', 'thai', 'baht', 'brl', 'brazilian', 'real', 'mxn', 'mexican', 'peso', 'inr', 'indian', 'rupee', 'source', 'reference', 'exchange', 'rate', 'published', 'by', 'the', 'ecb', 'announcements', 'procedures', 'relating', 'to', 'the', 'implementation', 'of', 'competition', 'policy', 'european', 'commission', 'en', 'official', 'journal', 'of', 'the', 'european', 'union', 'prior', 'notification', 'of', 'concentration', 'case', 'astorg', 'nordic', 'capital', 'novo', 'ert', 'candidate', 'case', 'for', 'simplified', 'procedure', 'text', 'with', 'eea', 'relevance', 'on', 'december', 'the', 'commission', 'received', 'notification', 'of', 'proposed', 'concentration', 'pursuant', 'to', 'article', 'of', 'council', 'regulation', 'ec', 'no', 'this', 'notification', 'concerns', 'the', 'following', 'undertakings', 'invest', 'bidco', 'limited', 'invest', 'bidco', 'controlled', 'by', 'astorg', 'vii', 'slp', 'fund', 'managed', 'by', 'astorg', 'asset', 'management', 'astorg', 'luxembourg', 'nordic', 'capital', 'ix', 'limited', 'nordic', 'capital', 'jersey', 'channel', 'islands', 'novo', 'holdings', 'novo', 'denmark', 'and', 'ert', 'united', 'states', 'currently', 'solely', 'controlled', 'by', 'nordic', 'capital', 'astorg', 'through', 'invest', 'bidco', 'nordic', 'capital', 'and', 'novo', 'acquire', 'within', 'the', 'meaning', 'of', 'articles', 'and', 'of', 'the', 'merger', 'regulation', 'joint', 'control', 'of', 'the', 'whole', 'of', 'ert', 'the', 'concentration', 'is', 'accomplished', 'by', 'way', 'of', 'purchase', 'of', 'shares', 'the', 'business', 'activities', 'of', 'the', 'undertakings', 'concerned', 'are', 'for', 'astorg', 'private', 'equity', 'group', 'for', 'nordic', 'capital', 'private', 'equity', 'funds', 'investing', 'across', 'broad', 'array', 'of', 'industries', 'including', 'healthcare', 'tech', 'payments', 'financial', 'services', 'industrial', 'business', 'services', 'and', 'consumer', 'products', 'for', 'novo', 'responsible', 'for', 'managing', 'the', 'assets', 'of', 'the', 'novo', 'nordisk', 'foundation', 'through', 'strategic', 'investments', 'in', 'the', 'life', 'sciences', 'and', 'related', 'areas', 'and', 'through', 'minority', 'investments', 'of', 'financial', 'and', 'venture', 'capital', 'nature', 'in', 'broad', 'portfolio', 'of', 'companies', 'dedicated', 'to', 'medical', 'and', 'scientific', 'research', 'for', 'ert', 'provider', 'of', 'software', 'enabled', 'clinical', 'research', 'solutions', 'on', 'preliminary', 'examination', 'the', 'commission', 'finds', 'that', 'the', 'notified', 'transaction', 'could', 'fall', 'within', 'the', 'scope', 'of', 'the', 'merger', 'regulation', 'however', 'the', 'final', 'decision', 'on', 'this', 'point', 'is', 'reserved', 'pursuant', 'to', 'the', 'commission', 'notice', 'on', 'simplified', 'procedure', 'for', 'treatment', 'of', 'certain', 'concentrations', 'under', 'the', 'council', 'regulation', 'ec', 'no', 'it', 'should', 'be', 'noted', 'that', 'this', 'case', 'is', 'candidate', 'for', 'treatment', 'under', 'the', 'procedure', 'set', 'out', 'in', 'the', 'notice', 'the', 'commission', 'invites', 'interested', 'third', 'parties', 'to', 'submit', 'their', 'possible', 'observations', 'on', 'the', 'proposed', 'operation', 'to', 'the', 'commission', 'observations', 'must', 'reach', 'the', 'commission', 'not', 'later', 'than', 'days', 'following', 'the', 'date', 'of', 'this', 'publication', 'the', 'following', 'reference', 'should', 'always', 'be', 'specified', 'astorg', 'nordic', 'capital', 'novo', 'ert', 'observations', 'can', 'be', 'sent', 'to', 'the', 'commission', 'by', 'email', 'by', 'fax', 'or', 'by', 'post', 'please', 'use', 'the', 'contact', 'details', 'below', 'email', 'comp', 'merger', 'registry', 'ec', 'europa', 'eu', 'fax', 'postal', 'address', 'european', 'commission', 'directorate', 'general', 'for', 'competition', 'merger', 'registry', 'bruxelles', 'brussel', 'belgique', 'belgie', 'oj', 'the', 'merger', 'regulation', 'the', 'current', 'management', 'of', 'ert', 'will', 'own', 'less', 'than', 'of', 'the', 'share', 'capital', 'oj']]\n"
     ]
    }
   ],
   "metadata": {}
  },
  {
   "cell_type": "code",
   "execution_count": 9,
   "source": [
    "# Build the bigram and trigram models\n",
    "bigram = gensim.models.Phrases(data_words, min_count=5, threshold=100) # higher threshold fewer phrases.\n",
    "trigram = gensim.models.Phrases(bigram[data_words], threshold=100)  \n",
    "\n",
    "# Faster way to get a sentence clubbed as a trigram/bigram\n",
    "bigram_mod = gensim.models.phrases.Phraser(bigram)\n",
    "trigram_mod = gensim.models.phrases.Phraser(trigram)\n",
    "\n",
    "# See trigram example\n",
    "print(trigram_mod[bigram_mod[data_words[0]]])"
   ],
   "outputs": [
    {
     "output_type": "stream",
     "name": "stdout",
     "text": [
      "['official', 'journal', 'issn', 'official', 'journal', 'of', 'the', 'european', 'union', 'english_edition', 'information', 'and', 'notices_volume', 'january', 'contents_page', 'iv_notices_notices', 'from', 'european', 'union', 'institutions_bodies_offices', 'and', 'agencies', 'european', 'commission', 'euro', 'exchange', 'rates', 'december', 'euro', 'exchange', 'rates', 'december', 'euro', 'exchange', 'rates', 'january', 'announcements_procedures_relating', 'to', 'the', 'implementation', 'of', 'competition', 'policy', 'european', 'commission', 'prior', 'notification', 'of', 'concentration', 'case', 'astorg', 'nordic', 'capital', 'novo', 'ert', 'candidate', 'case', 'for', 'simplified', 'procedure', 'text', 'with', 'eea_relevance', 'en', 'iv_notices_notices', 'from', 'european', 'union', 'institutions_bodies_offices', 'and', 'agencies', 'european', 'commission', 'en', 'official', 'journal', 'of', 'the', 'european', 'union', 'euro', 'exchange', 'rates', 'december', 'euro', 'currency', 'exchange_rate_usd', 'us_dollar_jpy_japanese', 'yen_dkk_danish_krone', 'gbp_pound_sterling_sek', 'swedish_krona_chf_swiss', 'franc_isk_iceland_krona', 'nok_norwegian_krone_bgn', 'bulgarian_lev_czk_czech', 'koruna_huf_hungarian_forint', 'pln_polish_zloty_ron', 'romanian_leu_try_turkish', 'lira_aud_australian_dollar', 'cad_canadian_dollar_hkd', 'hong_kong_dollar_nzd', 'new_zealand_dollar_sgd', 'singapore_dollar_krw_south', 'korean_won_zar_south', 'african_rand_cny_chinese', 'yuan_renminbi_hrk_croatian', 'kuna_idr_indonesian_rupiah', 'myr_malaysian_ringgit_php', 'philippine_peso_rub_russian', 'rouble_thb_thai_baht', 'brl_brazilian_real_mxn', 'mexican_peso_inr_indian', 'rupee_source_reference', 'exchange', 'rate', 'published', 'by', 'the', 'ecb', 'en', 'official', 'journal', 'of', 'the', 'european', 'union', 'euro', 'exchange', 'rates', 'december', 'euro', 'currency', 'exchange_rate_usd', 'us_dollar_jpy_japanese', 'yen_dkk_danish_krone', 'gbp_pound_sterling_sek', 'swedish_krona_chf_swiss', 'franc_isk_iceland_krona', 'nok_norwegian_krone_bgn', 'bulgarian_lev_czk_czech', 'koruna_huf_hungarian_forint', 'pln_polish_zloty_ron', 'romanian_leu_try_turkish', 'lira_aud_australian_dollar', 'cad_canadian_dollar_hkd', 'hong_kong_dollar_nzd', 'new_zealand_dollar_sgd', 'singapore_dollar_krw_south', 'korean_won_zar_south', 'african_rand_cny_chinese', 'yuan_renminbi_hrk_croatian', 'kuna_idr_indonesian_rupiah', 'myr_malaysian_ringgit_php', 'philippine_peso_rub_russian', 'rouble_thb_thai_baht', 'brl_brazilian_real_mxn', 'mexican_peso_inr_indian', 'rupee_source_reference', 'exchange', 'rate', 'published', 'by', 'the', 'ecb', 'en', 'official', 'journal', 'of', 'the', 'european', 'union', 'euro', 'exchange', 'rates', 'january', 'euro', 'currency', 'exchange_rate_usd', 'us_dollar_jpy_japanese', 'yen_dkk_danish_krone', 'gbp_pound_sterling_sek', 'swedish_krona_chf_swiss', 'franc_isk_iceland_krona', 'nok_norwegian_krone_bgn', 'bulgarian_lev_czk_czech', 'koruna_huf_hungarian_forint', 'pln_polish_zloty_ron', 'romanian_leu_try_turkish', 'lira_aud_australian_dollar', 'cad_canadian_dollar_hkd', 'hong_kong_dollar_nzd', 'new_zealand_dollar_sgd', 'singapore_dollar_krw_south', 'korean_won_zar_south', 'african_rand_cny_chinese', 'yuan_renminbi_hrk_croatian', 'kuna_idr_indonesian_rupiah', 'myr_malaysian_ringgit_php', 'philippine_peso_rub_russian', 'rouble_thb_thai_baht', 'brl_brazilian_real_mxn', 'mexican_peso_inr_indian', 'rupee_source_reference', 'exchange', 'rate', 'published', 'by', 'the', 'ecb', 'announcements_procedures_relating', 'to', 'the', 'implementation', 'of', 'competition', 'policy', 'european', 'commission', 'en', 'official', 'journal', 'of', 'the', 'european', 'union', 'prior', 'notification', 'of', 'concentration', 'case', 'astorg', 'nordic', 'capital', 'novo', 'ert', 'candidate', 'case', 'for', 'simplified', 'procedure', 'text', 'with', 'eea_relevance', 'on', 'december', 'the', 'commission', 'received', 'notification', 'of', 'proposed', 'concentration', 'pursuant', 'to', 'article', 'of', 'council', 'regulation', 'ec', 'no', 'this', 'notification', 'concerns', 'the', 'following', 'undertakings', 'invest', 'bidco', 'limited', 'invest', 'bidco', 'controlled', 'by', 'astorg', 'vii', 'slp', 'fund', 'managed', 'by', 'astorg_asset', 'management', 'astorg', 'luxembourg', 'nordic', 'capital', 'ix', 'limited', 'nordic', 'capital', 'jersey', 'channel_islands', 'novo', 'holdings', 'novo', 'denmark', 'and', 'ert', 'united', 'states', 'currently', 'solely', 'controlled', 'by', 'nordic', 'capital', 'astorg', 'through', 'invest', 'bidco', 'nordic', 'capital', 'and', 'novo', 'acquire', 'within', 'the', 'meaning', 'of', 'articles', 'and', 'of', 'the', 'merger', 'regulation', 'joint', 'control', 'of', 'the', 'whole', 'of', 'ert', 'the', 'concentration', 'is', 'accomplished', 'by', 'way', 'of', 'purchase', 'of', 'shares', 'the', 'business', 'activities', 'of', 'the', 'undertakings', 'concerned', 'are', 'for', 'astorg', 'private', 'equity', 'group', 'for', 'nordic', 'capital', 'private', 'equity', 'funds', 'investing', 'across', 'broad', 'array', 'of', 'industries', 'including', 'healthcare', 'tech', 'payments', 'financial', 'services', 'industrial', 'business', 'services', 'and', 'consumer', 'products', 'for', 'novo', 'responsible', 'for', 'managing', 'the', 'assets', 'of', 'the', 'novo_nordisk', 'foundation', 'through', 'strategic', 'investments', 'in', 'the', 'life', 'sciences', 'and', 'related', 'areas', 'and', 'through', 'minority', 'investments', 'of', 'financial', 'and', 'venture_capital', 'nature', 'in', 'broad', 'portfolio', 'of', 'companies', 'dedicated', 'to', 'medical', 'and', 'scientific', 'research', 'for', 'ert', 'provider', 'of', 'software', 'enabled', 'clinical', 'research', 'solutions', 'on', 'preliminary_examination', 'the', 'commission', 'finds', 'that', 'the', 'notified_transaction', 'could', 'fall', 'within', 'the', 'scope', 'of', 'the', 'merger', 'regulation', 'however', 'the', 'final', 'decision', 'on', 'this', 'point', 'is', 'reserved', 'pursuant', 'to', 'the', 'commission', 'notice', 'on', 'simplified', 'procedure', 'for', 'treatment', 'of', 'certain', 'concentrations', 'under', 'the', 'council', 'regulation', 'ec', 'no', 'it', 'should', 'be', 'noted', 'that', 'this', 'case', 'is', 'candidate', 'for', 'treatment', 'under', 'the', 'procedure', 'set', 'out', 'in', 'the', 'notice', 'the', 'commission', 'invites_interested_third', 'parties', 'to', 'submit', 'their', 'possible', 'observations', 'on', 'the', 'proposed', 'operation', 'to', 'the', 'commission', 'observations', 'must', 'reach', 'the', 'commission', 'not', 'later', 'than', 'days', 'following', 'the', 'date', 'of', 'this', 'publication', 'the', 'following', 'reference', 'should', 'always', 'be', 'specified', 'astorg', 'nordic', 'capital', 'novo', 'ert', 'observations', 'can', 'be', 'sent', 'to', 'the', 'commission', 'by', 'email', 'by', 'fax', 'or', 'by', 'post_please', 'use', 'the', 'contact_details', 'below_email_comp', 'merger_registry', 'ec', 'europa', 'eu', 'fax_postal_address', 'european', 'commission', 'directorate', 'general', 'for', 'competition_merger_registry', 'bruxelles_brussel_belgique_belgie', 'oj', 'the', 'merger', 'regulation', 'the', 'current', 'management', 'of', 'ert', 'will', 'own', 'less', 'than', 'of', 'the', 'share', 'capital', 'oj']\n"
     ]
    }
   ],
   "metadata": {}
  },
  {
   "cell_type": "code",
   "execution_count": 10,
   "source": [
    "# Define functions for stopwords, bigrams, trigrams and lemmatization\n",
    "def remove_stopwords(texts):\n",
    "    return [[word for word in simple_preprocess(str(doc)) if word not in stop_words] for doc in texts]\n",
    "\n",
    "def make_bigrams(texts):\n",
    "    return [bigram_mod[doc] for doc in texts]\n",
    "\n",
    "def make_trigrams(texts):\n",
    "    return [trigram_mod[bigram_mod[doc]] for doc in texts]\n",
    "\n",
    "def lemmatization(texts, allowed_postags=['NOUN', 'ADJ', 'VERB', 'ADV']):\n",
    "    \"\"\"https://spacy.io/api/annotation\"\"\"\n",
    "    texts_out = []\n",
    "    for sent in texts:\n",
    "        doc = nlp(\" \".join(sent)) \n",
    "        texts_out.append([token.lemma_ for token in doc if token.pos_ in allowed_postags])\n",
    "    return texts_out"
   ],
   "outputs": [],
   "metadata": {}
  },
  {
   "cell_type": "code",
   "execution_count": 11,
   "source": [
    "# Remove Stop Words\n",
    "data_words_nostops = remove_stopwords(data_words)\n",
    "\n",
    "# Form Bigrams\n",
    "data_words_bigrams = make_bigrams(data_words_nostops)\n",
    "\n",
    "# Initialize spacy 'en' model, keeping only tagger component (for efficiency)\n",
    "# python3 -m spacy download en\n",
    "nlp = spacy.load('en_core_web_sm', disable=['parser', 'ner'])\n",
    "nlp.max_length = 3000000\n",
    "\n",
    "# Do lemmatization keeping only noun, adj, vb, adv\n",
    "data_lemmatized = lemmatization(data_words_bigrams, allowed_postags=['NOUN', 'ADJ', 'VERB', 'ADV'])\n",
    "\n",
    "print(data_lemmatized[:1])"
   ],
   "outputs": [
    {
     "output_type": "stream",
     "name": "stdout",
     "text": [
      "[['official', 'official', 'notice', 'volume', 'contents_page', 'institution', 'bodies_office', 'agencie', 'exchange', 'rate', 'exchange', 'rate', 'exchange', 'rate', 'announcements_procedure', 'relate', 'implementation', 'competition', 'policy', 'case', 'nordic', 'capital', 'candidate', 'case', 'simplify', 'procedure', 'text', 'institution', 'bodies_office', 'agencie', 'official', 'exchange', 'rate', 'danish_krone', 'gbp_pound', 'sterling_sek', 'swedish_krona', 'iceland_krona', 'hungarian_forint', 'try_turkish', 'singapore_dollar', 'african_rand', 'yuan_renminbi', 'ringgit_php', 'philippine_peso', 'thai_baht', 'rupee_source', 'reference', 'exchange', 'rate', 'publish', 'official', 'exchange', 'rate', 'danish_krone', 'gbp_pound', 'sterling_sek', 'swedish_krona', 'iceland_krona', 'hungarian_forint', 'try_turkish', 'singapore_dollar', 'african_rand', 'yuan_renminbi', 'ringgit_php', 'philippine_peso', 'thai_baht', 'rupee_source', 'reference', 'exchange', 'rate', 'publish', 'official', 'exchange', 'rate', 'danish_krone', 'gbp_pound', 'sterling_sek', 'swedish_krona', 'iceland_krona', 'hungarian_forint', 'try_turkish', 'singapore_dollar', 'african_rand', 'yuan_renminbi', 'ringgit_php', 'philippine_peso', 'thai_baht', 'rupee_source', 'reference', 'exchange', 'rate', 'publish', 'ecb', 'announcements_procedure', 'relate', 'implementation', 'competition', 'policy', 'official', 'case', 'nordic', 'capital', 'candidate', 'case', 'simplify', 'procedure', 'text', 'receive', 'notification', 'propose', 'concentration', 'pursuant', 'regulation', 'notification', 'concern', 'follow', 'undertaking', 'invest', 'control', 'manage', 'luxembourg', 'limit', 'currently', 'solely', 'control', 'nordic', 'capital', 'nordic', 'capital', 'acquire', 'mean', 'article', 'merger', 'regulation', 'joint', 'control', 'whole', 'concentration', 'accomplish', 'way', 'purchase', 'share', 'business', 'activity', 'undertaking', 'concern', 'private', 'equity', 'group', 'nordic', 'capital', 'private', 'equity', 'fund', 'invest', 'broad', 'array', 'industry', 'include', 'healthcare', 'tech', 'payment', 'financial', 'service', 'industrial', 'business', 'service', 'consumer', 'product', 'responsible', 'manage', 'asset', 'foundation', 'investment', 'life', 'science', 'related', 'area', 'minority', 'investment', 'financial', 'venture_capital', 'nature', 'broad', 'portfolio', 'company', 'dedicate', 'medical', 'scientific', 'research', 'provider', 'software', 'enable', 'clinical', 'research', 'solution', 'preliminary', 'find', 'notify', 'transaction', 'fall', 'scope', 'merger', 'regulation', 'however', 'final', 'decision', 'point', 'reserve', 'pursuant', 'commission', 'notice', 'simplify', 'procedure', 'treatment', 'certain', 'regulation', 'note', 'case', 'candidate', 'treatment', 'procedure', 'set', 'commission', 'invites_intereste', 'third', 'party', 'submit', 'possible', 'observation', 'propose', 'operation', 'commission', 'observation', 'reach', 'commission', 'later', 'day', 'follow', 'date', 'publication', 'follow', 'reference', 'always', 'specify', 'nordic', 'capital', 'observation', 'send', 'email', 'contact_detail', 'email_comp', 'merger_registry', 'belgique_belgie', 'merger', 'current', 'management', 'ert', 'less', 'share', 'capital']]\n"
     ]
    }
   ],
   "metadata": {}
  },
  {
   "cell_type": "code",
   "execution_count": 12,
   "source": [
    "# Create Dictionary\n",
    "id2word = corpora.Dictionary(data_lemmatized)\n",
    "\n",
    "# Create Corpus\n",
    "texts = data_lemmatized\n",
    "\n",
    "# Term Document Frequency\n",
    "corpus = [id2word.doc2bow(text) for text in texts]\n",
    "\n",
    "# View\n",
    "print(corpus[:1])"
   ],
   "outputs": [
    {
     "output_type": "stream",
     "name": "stdout",
     "text": [
      "[[(0, 1), (1, 1), (2, 1), (3, 3), (4, 2), (5, 1), (6, 2), (7, 1), (8, 1), (9, 1), (10, 1), (11, 1), (12, 2), (13, 2), (14, 2), (15, 3), (16, 7), (17, 5), (18, 1), (19, 1), (20, 4), (21, 1), (22, 2), (23, 2), (24, 2), (25, 1), (26, 1), (27, 1), (28, 3), (29, 1), (30, 1), (31, 3), (32, 1), (33, 1), (34, 1), (35, 1), (36, 1), (37, 1), (38, 1), (39, 1), (40, 2), (41, 1), (42, 9), (43, 1), (44, 1), (45, 2), (46, 1), (47, 3), (48, 1), (49, 1), (50, 3), (51, 1), (52, 1), (53, 1), (54, 3), (55, 3), (56, 2), (57, 1), (58, 1), (59, 1), (60, 2), (61, 2), (62, 2), (63, 1), (64, 1), (65, 1), (66, 1), (67, 1), (68, 1), (69, 1), (70, 2), (71, 1), (72, 1), (73, 1), (74, 3), (75, 1), (76, 1), (77, 1), (78, 6), (79, 1), (80, 2), (81, 2), (82, 1), (83, 3), (84, 6), (85, 1), (86, 1), (87, 1), (88, 3), (89, 1), (90, 2), (91, 1), (92, 1), (93, 1), (94, 2), (95, 4), (96, 1), (97, 2), (98, 1), (99, 1), (100, 3), (101, 1), (102, 2), (103, 9), (104, 1), (105, 1), (106, 4), (107, 4), (108, 2), (109, 1), (110, 2), (111, 1), (112, 1), (113, 3), (114, 3), (115, 1), (116, 1), (117, 1), (118, 1), (119, 2), (120, 1), (121, 2), (122, 3), (123, 3), (124, 1), (125, 1), (126, 1), (127, 1), (128, 3), (129, 1), (130, 3), (131, 1), (132, 2), (133, 3), (134, 1), (135, 1), (136, 2), (137, 3), (138, 2), (139, 1), (140, 1), (141, 1), (142, 1), (143, 3)]]\n"
     ]
    }
   ],
   "metadata": {}
  },
  {
   "cell_type": "code",
   "execution_count": 13,
   "source": [
    "id2word[0]"
   ],
   "outputs": [
    {
     "output_type": "execute_result",
     "data": {
      "text/plain": [
       "'accomplish'"
      ]
     },
     "metadata": {},
     "execution_count": 13
    }
   ],
   "metadata": {}
  },
  {
   "cell_type": "code",
   "execution_count": 14,
   "source": [
    "corpus[:1][0][:10]"
   ],
   "outputs": [
    {
     "output_type": "execute_result",
     "data": {
      "text/plain": [
       "[(0, 1),\n",
       " (1, 1),\n",
       " (2, 1),\n",
       " (3, 3),\n",
       " (4, 2),\n",
       " (5, 1),\n",
       " (6, 2),\n",
       " (7, 1),\n",
       " (8, 1),\n",
       " (9, 1)]"
      ]
     },
     "metadata": {},
     "execution_count": 14
    }
   ],
   "metadata": {}
  },
  {
   "cell_type": "code",
   "execution_count": 15,
   "source": [
    "# Human readable format of corpus (term-frequency)\n",
    "[[(id2word[id], freq) for id, freq in cp] for cp in corpus[:1]]"
   ],
   "outputs": [
    {
     "output_type": "execute_result",
     "data": {
      "text/plain": [
       "[[('accomplish', 1),\n",
       "  ('acquire', 1),\n",
       "  ('activity', 1),\n",
       "  ('african_rand', 3),\n",
       "  ('agencie', 2),\n",
       "  ('always', 1),\n",
       "  ('announcements_procedure', 2),\n",
       "  ('area', 1),\n",
       "  ('array', 1),\n",
       "  ('article', 1),\n",
       "  ('asset', 1),\n",
       "  ('belgique_belgie', 1),\n",
       "  ('bodies_office', 2),\n",
       "  ('broad', 2),\n",
       "  ('business', 2),\n",
       "  ('candidate', 3),\n",
       "  ('capital', 7),\n",
       "  ('case', 5),\n",
       "  ('certain', 1),\n",
       "  ('clinical', 1),\n",
       "  ('commission', 4),\n",
       "  ('company', 1),\n",
       "  ('competition', 2),\n",
       "  ('concentration', 2),\n",
       "  ('concern', 2),\n",
       "  ('consumer', 1),\n",
       "  ('contact_detail', 1),\n",
       "  ('contents_page', 1),\n",
       "  ('control', 3),\n",
       "  ('current', 1),\n",
       "  ('currently', 1),\n",
       "  ('danish_krone', 3),\n",
       "  ('date', 1),\n",
       "  ('day', 1),\n",
       "  ('decision', 1),\n",
       "  ('dedicate', 1),\n",
       "  ('ecb', 1),\n",
       "  ('email', 1),\n",
       "  ('email_comp', 1),\n",
       "  ('enable', 1),\n",
       "  ('equity', 2),\n",
       "  ('ert', 1),\n",
       "  ('exchange', 9),\n",
       "  ('fall', 1),\n",
       "  ('final', 1),\n",
       "  ('financial', 2),\n",
       "  ('find', 1),\n",
       "  ('follow', 3),\n",
       "  ('foundation', 1),\n",
       "  ('fund', 1),\n",
       "  ('gbp_pound', 3),\n",
       "  ('group', 1),\n",
       "  ('healthcare', 1),\n",
       "  ('however', 1),\n",
       "  ('hungarian_forint', 3),\n",
       "  ('iceland_krona', 3),\n",
       "  ('implementation', 2),\n",
       "  ('include', 1),\n",
       "  ('industrial', 1),\n",
       "  ('industry', 1),\n",
       "  ('institution', 2),\n",
       "  ('invest', 2),\n",
       "  ('investment', 2),\n",
       "  ('invites_intereste', 1),\n",
       "  ('joint', 1),\n",
       "  ('later', 1),\n",
       "  ('less', 1),\n",
       "  ('life', 1),\n",
       "  ('limit', 1),\n",
       "  ('luxembourg', 1),\n",
       "  ('manage', 2),\n",
       "  ('management', 1),\n",
       "  ('mean', 1),\n",
       "  ('medical', 1),\n",
       "  ('merger', 3),\n",
       "  ('merger_registry', 1),\n",
       "  ('minority', 1),\n",
       "  ('nature', 1),\n",
       "  ('nordic', 6),\n",
       "  ('note', 1),\n",
       "  ('notice', 2),\n",
       "  ('notification', 2),\n",
       "  ('notify', 1),\n",
       "  ('observation', 3),\n",
       "  ('official', 6),\n",
       "  ('operation', 1),\n",
       "  ('party', 1),\n",
       "  ('payment', 1),\n",
       "  ('philippine_peso', 3),\n",
       "  ('point', 1),\n",
       "  ('policy', 2),\n",
       "  ('portfolio', 1),\n",
       "  ('possible', 1),\n",
       "  ('preliminary', 1),\n",
       "  ('private', 2),\n",
       "  ('procedure', 4),\n",
       "  ('product', 1),\n",
       "  ('propose', 2),\n",
       "  ('provider', 1),\n",
       "  ('publication', 1),\n",
       "  ('publish', 3),\n",
       "  ('purchase', 1),\n",
       "  ('pursuant', 2),\n",
       "  ('rate', 9),\n",
       "  ('reach', 1),\n",
       "  ('receive', 1),\n",
       "  ('reference', 4),\n",
       "  ('regulation', 4),\n",
       "  ('relate', 2),\n",
       "  ('related', 1),\n",
       "  ('research', 2),\n",
       "  ('reserve', 1),\n",
       "  ('responsible', 1),\n",
       "  ('ringgit_php', 3),\n",
       "  ('rupee_source', 3),\n",
       "  ('science', 1),\n",
       "  ('scientific', 1),\n",
       "  ('scope', 1),\n",
       "  ('send', 1),\n",
       "  ('service', 2),\n",
       "  ('set', 1),\n",
       "  ('share', 2),\n",
       "  ('simplify', 3),\n",
       "  ('singapore_dollar', 3),\n",
       "  ('software', 1),\n",
       "  ('solely', 1),\n",
       "  ('solution', 1),\n",
       "  ('specify', 1),\n",
       "  ('sterling_sek', 3),\n",
       "  ('submit', 1),\n",
       "  ('swedish_krona', 3),\n",
       "  ('tech', 1),\n",
       "  ('text', 2),\n",
       "  ('thai_baht', 3),\n",
       "  ('third', 1),\n",
       "  ('transaction', 1),\n",
       "  ('treatment', 2),\n",
       "  ('try_turkish', 3),\n",
       "  ('undertaking', 2),\n",
       "  ('venture_capital', 1),\n",
       "  ('volume', 1),\n",
       "  ('way', 1),\n",
       "  ('whole', 1),\n",
       "  ('yuan_renminbi', 3)]]"
      ]
     },
     "metadata": {},
     "execution_count": 15
    }
   ],
   "metadata": {}
  },
  {
   "cell_type": "code",
   "execution_count": 16,
   "source": [
    "# Build LDA model\n",
    "lda_model = gensim.models.ldamodel.LdaModel(corpus=corpus,\n",
    "                                           id2word=id2word,\n",
    "                                           num_topics=20, \n",
    "                                           random_state=100,\n",
    "                                           update_every=1,\n",
    "                                           chunksize=100,\n",
    "                                           passes=10,\n",
    "                                           alpha='auto',\n",
    "                                           per_word_topics=True)"
   ],
   "outputs": [],
   "metadata": {}
  },
  {
   "cell_type": "code",
   "execution_count": 17,
   "source": [
    "# Print the Keyword in the 20 topics\n",
    "pprint(lda_model.print_topics())\n",
    "doc_lda = lda_model[corpus]"
   ],
   "outputs": [
    {
     "output_type": "stream",
     "name": "stdout",
     "text": [
      "[(0,\n",
      "  '0.019*\"service\" + 0.018*\"information\" + 0.018*\"datum\" + 0.016*\"member\" + '\n",
      "  '0.011*\"authority\" + 0.010*\"provide\" + 0.009*\"include\" + 0.009*\"access\" + '\n",
      "  '0.009*\"state\" + 0.009*\"national\"'),\n",
      " (1,\n",
      "  '0.021*\"state\" + 0.019*\"service\" + 0.019*\"market\" + 0.017*\"aid\" + '\n",
      "  '0.014*\"measure\" + 0.010*\"grant\" + 0.010*\"authority\" + 0.010*\"decision\" + '\n",
      "  '0.010*\"cost\" + 0.009*\"tax\"'),\n",
      " (2,\n",
      "  '0.023*\"contain\" + 0.019*\"product\" + 0.019*\"weight\" + 0.018*\"material\" + '\n",
      "  '0.015*\"use\" + 0.013*\"head\" + 0.012*\"less\" + 0.012*\"article\" + '\n",
      "  '0.011*\"similar\" + 0.011*\"manufacture\"'),\n",
      " (3,\n",
      "  '0.131*\"code\" + 0.093*\"name\" + 0.073*\"incl\" + 0.069*\"number\" + 0.064*\"date\" '\n",
      "  '+ 0.054*\"type\" + 0.033*\"text\" + 0.021*\"government\" + 0.020*\"me\" + '\n",
      "  '0.020*\"decision\"'),\n",
      " (4,\n",
      "  '0.018*\"member\" + 0.017*\"state\" + 0.013*\"call\" + 0.010*\"right\" + '\n",
      "  '0.008*\"include\" + 0.008*\"regard\" + 0.007*\"support\" + 0.007*\"text\" + '\n",
      "  '0.006*\"amendment\" + 0.006*\"country\"'),\n",
      " (5,\n",
      "  '0.028*\"financial\" + 0.020*\"year\" + 0.015*\"budget\" + 0.015*\"payment\" + '\n",
      "  '0.014*\"account\" + 0.012*\"report\" + 0.012*\"total\" + 0.011*\"agency\" + '\n",
      "  '0.010*\"note\" + 0.010*\"amount\"'),\n",
      " (6,\n",
      "  '0.059*\"vote\" + 0.027*\"rule\" + 0.026*\"resolution\" + 0.021*\"follow\" + '\n",
      "  '0.020*\"committee\" + 0.018*\"group\" + 0.018*\"part\" + 0.018*\"text\" + '\n",
      "  '0.016*\"report\" + 0.013*\"parliament\"'),\n",
      " (7,\n",
      "  '0.018*\"union\" + 0.018*\"price\" + 0.017*\"import\" + 0.015*\"product\" + '\n",
      "  '0.014*\"investigation\" + 0.014*\"regulation\" + 0.013*\"producer\" + '\n",
      "  '0.011*\"company\" + 0.011*\"party\" + 0.011*\"market\"'),\n",
      " (8,\n",
      "  '0.020*\"cosac\" + 0.000*\"plenary\" + 0.000*\"recess\" + 0.000*\"chief_negotiator\" '\n",
      "  '+ 0.000*\"bestow\" + 0.000*\"radicalization\" + 0.000*\"discussed\" + '\n",
      "  '0.000*\"interrelation\" + 0.000*\"vitally_important\" + '\n",
      "  '0.000*\"organized_crime\"'),\n",
      " (9,\n",
      "  '0.071*\"wine\" + 0.040*\"origin\" + 0.025*\"protected_designation\" + '\n",
      "  '0.020*\"product\" + 0.020*\"protect\" + 0.016*\"process\" + '\n",
      "  '0.015*\"fruit_vegetable\" + 0.015*\"cereals_fresh\" + 0.012*\"cheese\" + '\n",
      "  '0.012*\"case\"'),\n",
      " (10,\n",
      "  '0.000*\"deze_activiteiten\" + 0.000*\"deze_functie\" + 0.000*\"deelt\" + '\n",
      "  '0.000*\"defecte\" + 0.000*\"delen\" + 0.000*\"derde\" + 0.000*\"deelname\" + '\n",
      "  '0.000*\"deze_rechten\" + 0.000*\"deze_maatregelen\" + 0.000*\"daarvan\"'),\n",
      " (11,\n",
      "  '0.064*\"regulation\" + 0.063*\"article\" + 0.027*\"decision\" + 0.017*\"implement\" '\n",
      "  '+ 0.016*\"state\" + 0.015*\"member\" + 0.015*\"follow\" + 0.014*\"directive\" + '\n",
      "  '0.013*\"accordance\" + 0.012*\"amend\"'),\n",
      " (12,\n",
      "  '0.020*\"vehicle\" + 0.017*\"system\" + 0.016*\"follow\" + 0.015*\"test\" + '\n",
      "  '0.013*\"type\" + 0.011*\"requirement\" + 0.010*\"equipment\" + 0.010*\"control\" + '\n",
      "  '0.009*\"approval\" + 0.008*\"specify\"'),\n",
      " (13,\n",
      "  '0.102*\"add\" + 0.050*\"seed\" + 0.044*\"oil\" + 0.027*\"fruit\" + 0.026*\"other\" + '\n",
      "  '0.025*\"crop\" + 0.025*\"extract\" + 0.024*\"vegetable\" + 0.017*\"plant\" + '\n",
      "  '0.015*\"root\"'),\n",
      " (14,\n",
      "  '0.034*\"product\" + 0.021*\"animal\" + 0.013*\"food\" + 0.011*\"plant\" + '\n",
      "  '0.010*\"feed\" + 0.009*\"risk\" + 0.009*\"country\" + 0.009*\"substance\" + '\n",
      "  '0.008*\"number\" + 0.007*\"control\"'),\n",
      " (15,\n",
      "  '0.023*\"energy\" + 0.018*\"emission\" + 0.018*\"member\" + 0.017*\"article\" + '\n",
      "  '0.017*\"state\" + 0.012*\"directive\" + 0.012*\"operator\" + 0.010*\"plan\" + '\n",
      "  '0.010*\"include\" + 0.010*\"report\"'),\n",
      " (16,\n",
      "  '0.044*\"holder\" + 0.033*\"concession\" + 0.031*\"right\" + 0.030*\"hydrocarbon\" + '\n",
      "  '0.024*\"fee\" + 0.022*\"tender\" + 0.022*\"agreement\" + 0.016*\"section\" + '\n",
      "  '0.015*\"gas\" + 0.015*\"date\"'),\n",
      " (17,\n",
      "  '0.009*\"market\" + 0.008*\"state\" + 0.008*\"policy\" + 0.007*\"need\" + '\n",
      "  '0.007*\"level\" + 0.006*\"member\" + 0.006*\"also\" + 0.006*\"support\" + '\n",
      "  '0.006*\"ensure\" + 0.006*\"european\"'),\n",
      " (18,\n",
      "  '0.040*\"case\" + 0.028*\"article\" + 0.018*\"court\" + 0.017*\"proceeding\" + '\n",
      "  '0.016*\"law\" + 0.016*\"decision\" + 0.016*\"applicant\" + 0.016*\"regulation\" + '\n",
      "  '0.015*\"order\" + 0.014*\"party\"'),\n",
      " (19,\n",
      "  '0.024*\"credit\" + 0.021*\"financial\" + 0.018*\"asset\" + 0.018*\"value\" + '\n",
      "  '0.018*\"risk\" + 0.017*\"amount\" + 0.013*\"member\" + 0.013*\"institution\" + '\n",
      "  '0.013*\"report\" + 0.013*\"entity\"')]\n"
     ]
    }
   ],
   "metadata": {}
  },
  {
   "cell_type": "code",
   "execution_count": 18,
   "source": [
    "# Compute Perplexity\n",
    "print('\\nPerplexity: ', lda_model.log_perplexity(corpus))  # a measure of how good the model is. lower the better.\n",
    "\n",
    "# Compute Coherence Score\n",
    "coherence_model_lda = CoherenceModel(model=lda_model, texts=data_lemmatized, dictionary=id2word, coherence='c_v')\n",
    "coherence_lda = coherence_model_lda.get_coherence()\n",
    "print('\\nCoherence Score: ', coherence_lda)"
   ],
   "outputs": [
    {
     "output_type": "stream",
     "name": "stdout",
     "text": [
      "\n",
      "Perplexity:  -9.296526979472523\n",
      "\n",
      "Coherence Score:  0.508833458646896\n"
     ]
    }
   ],
   "metadata": {}
  },
  {
   "cell_type": "code",
   "execution_count": null,
   "source": [
    "# Visualize the topics\n",
    "pyLDAvis.enable_notebook()\n",
    "vis = pyLDAvis.gensim_models.prepare(lda_model, corpus, id2word)\n",
    "vis"
   ],
   "outputs": [],
   "metadata": {}
  },
  {
   "cell_type": "code",
   "execution_count": 20,
   "source": [
    "def compute_coherence_values(dictionary, corpus, texts, limit, start=2, step=3):\n",
    "    \"\"\"\n",
    "    Compute c_v coherence for various number of topics\n",
    "\n",
    "    Parameters:\n",
    "    ----------\n",
    "    dictionary : Gensim dictionary\n",
    "    corpus : Gensim corpus\n",
    "    texts : List of input texts\n",
    "    limit : Max num of topics\n",
    "\n",
    "    Returns:\n",
    "    -------\n",
    "    model_list : List of LDA topic models\n",
    "    coherence_values : Coherence values corresponding to the LDA model with respective number of topics\n",
    "    \"\"\"\n",
    "    coherence_values = []\n",
    "    model_list = []\n",
    "    for num_topics in range(start, limit, step):\n",
    "        model = gensim.models.ldamodel.LdaModel(corpus=corpus,\n",
    "                                           id2word=id2word,\n",
    "                                           num_topics=num_topics, \n",
    "                                           random_state=100,\n",
    "                                           update_every=1,\n",
    "                                           chunksize=100,\n",
    "                                           passes=10,\n",
    "                                           alpha='auto',\n",
    "                                           per_word_topics=True)\n",
    "        model_list.append(model)\n",
    "        coherencemodel = CoherenceModel(model=model, texts=texts, dictionary=dictionary, coherence='c_v')\n",
    "        coherence_values.append(coherencemodel.get_coherence())\n",
    "\n",
    "    return model_list, coherence_values"
   ],
   "outputs": [],
   "metadata": {}
  },
  {
   "cell_type": "markdown",
   "source": [
    "## Calculating the ideal number of topics\n",
    "Set the initial limit to 80"
   ],
   "metadata": {}
  },
  {
   "cell_type": "code",
   "execution_count": 21,
   "source": [
    "# Can take a long time to run.\n",
    "model_list, coherence_values = compute_coherence_values(dictionary=id2word, corpus=corpus, texts=data_lemmatized, start=2, limit=80, step=6)"
   ],
   "outputs": [],
   "metadata": {}
  },
  {
   "cell_type": "code",
   "execution_count": 22,
   "source": [
    "# Show graph\n",
    "limit=80; start=2; step=6;\n",
    "x = range(start, limit, step)\n",
    "plt.plot(x, coherence_values)\n",
    "plt.xlabel(\"Num Topics\")\n",
    "plt.ylabel(\"Coherence score\")\n",
    "plt.legend((\"coherence_values\"), loc='best')\n",
    "plt.show()"
   ],
   "outputs": [
    {
     "output_type": "display_data",
     "data": {
      "image/png": "[encoded data removed]",
      "text/plain": [
       "<Figure size 432x288 with 1 Axes>"
      ]
     },
     "metadata": {
      "needs_background": "light"
     }
    }
   ],
   "metadata": {}
  },
  {
   "cell_type": "code",
   "execution_count": 23,
   "source": [
    "# Print the coherence scores\n",
    "for m, cv in zip(x, coherence_values):\n",
    "    print(\"Num Topics =\", m, \" has Coherence Value of\", round(cv, 4))"
   ],
   "outputs": [
    {
     "output_type": "stream",
     "name": "stdout",
     "text": [
      "Num Topics = 2  has Coherence Value of 0.4062\n",
      "Num Topics = 8  has Coherence Value of 0.4965\n",
      "Num Topics = 14  has Coherence Value of 0.5079\n",
      "Num Topics = 20  has Coherence Value of 0.5088\n",
      "Num Topics = 26  has Coherence Value of 0.4711\n",
      "Num Topics = 32  has Coherence Value of 0.4794\n",
      "Num Topics = 38  has Coherence Value of 0.4771\n",
      "Num Topics = 44  has Coherence Value of 0.4509\n",
      "Num Topics = 50  has Coherence Value of 0.4589\n",
      "Num Topics = 56  has Coherence Value of 0.4341\n",
      "Num Topics = 62  has Coherence Value of 0.4444\n",
      "Num Topics = 68  has Coherence Value of 0.4251\n",
      "Num Topics = 74  has Coherence Value of 0.4135\n"
     ]
    }
   ],
   "metadata": {}
  },
  {
   "cell_type": "code",
   "execution_count": 26,
   "source": [
    "# Select the model and print the topics\n",
    "optimal_model = model_list[3]\n",
    "model_topics = optimal_model.show_topics(formatted=False)\n",
    "pprint(optimal_model.print_topics(num_words=10))"
   ],
   "outputs": [
    {
     "output_type": "stream",
     "name": "stdout",
     "text": [
      "[(0,\n",
      "  '0.019*\"service\" + 0.018*\"information\" + 0.018*\"datum\" + 0.016*\"member\" + '\n",
      "  '0.011*\"authority\" + 0.010*\"provide\" + 0.009*\"include\" + 0.009*\"access\" + '\n",
      "  '0.009*\"state\" + 0.009*\"national\"'),\n",
      " (1,\n",
      "  '0.021*\"state\" + 0.019*\"service\" + 0.019*\"market\" + 0.017*\"aid\" + '\n",
      "  '0.014*\"measure\" + 0.010*\"grant\" + 0.010*\"authority\" + 0.010*\"decision\" + '\n",
      "  '0.010*\"cost\" + 0.009*\"tax\"'),\n",
      " (2,\n",
      "  '0.023*\"contain\" + 0.019*\"product\" + 0.019*\"weight\" + 0.018*\"material\" + '\n",
      "  '0.015*\"use\" + 0.013*\"head\" + 0.012*\"less\" + 0.012*\"article\" + '\n",
      "  '0.011*\"similar\" + 0.011*\"manufacture\"'),\n",
      " (3,\n",
      "  '0.131*\"code\" + 0.093*\"name\" + 0.073*\"incl\" + 0.069*\"number\" + 0.064*\"date\" '\n",
      "  '+ 0.054*\"type\" + 0.033*\"text\" + 0.021*\"government\" + 0.020*\"me\" + '\n",
      "  '0.020*\"decision\"'),\n",
      " (4,\n",
      "  '0.018*\"member\" + 0.017*\"state\" + 0.013*\"call\" + 0.010*\"right\" + '\n",
      "  '0.008*\"include\" + 0.008*\"regard\" + 0.007*\"support\" + 0.007*\"text\" + '\n",
      "  '0.006*\"amendment\" + 0.006*\"country\"'),\n",
      " (5,\n",
      "  '0.028*\"financial\" + 0.020*\"year\" + 0.015*\"budget\" + 0.015*\"payment\" + '\n",
      "  '0.014*\"account\" + 0.012*\"report\" + 0.012*\"total\" + 0.011*\"agency\" + '\n",
      "  '0.010*\"note\" + 0.010*\"amount\"'),\n",
      " (6,\n",
      "  '0.059*\"vote\" + 0.027*\"rule\" + 0.026*\"resolution\" + 0.021*\"follow\" + '\n",
      "  '0.020*\"committee\" + 0.018*\"group\" + 0.018*\"part\" + 0.018*\"text\" + '\n",
      "  '0.016*\"report\" + 0.013*\"parliament\"'),\n",
      " (7,\n",
      "  '0.018*\"union\" + 0.018*\"price\" + 0.017*\"import\" + 0.015*\"product\" + '\n",
      "  '0.014*\"investigation\" + 0.014*\"regulation\" + 0.013*\"producer\" + '\n",
      "  '0.011*\"company\" + 0.011*\"party\" + 0.011*\"market\"'),\n",
      " (8,\n",
      "  '0.020*\"cosac\" + 0.000*\"plenary\" + 0.000*\"recess\" + 0.000*\"chief_negotiator\" '\n",
      "  '+ 0.000*\"bestow\" + 0.000*\"radicalization\" + 0.000*\"discussed\" + '\n",
      "  '0.000*\"interrelation\" + 0.000*\"vitally_important\" + '\n",
      "  '0.000*\"organized_crime\"'),\n",
      " (9,\n",
      "  '0.071*\"wine\" + 0.040*\"origin\" + 0.025*\"protected_designation\" + '\n",
      "  '0.020*\"product\" + 0.020*\"protect\" + 0.016*\"process\" + '\n",
      "  '0.015*\"fruit_vegetable\" + 0.015*\"cereals_fresh\" + 0.012*\"cheese\" + '\n",
      "  '0.012*\"case\"'),\n",
      " (10,\n",
      "  '0.000*\"deze_activiteiten\" + 0.000*\"deze_functie\" + 0.000*\"deelt\" + '\n",
      "  '0.000*\"defecte\" + 0.000*\"delen\" + 0.000*\"derde\" + 0.000*\"deelname\" + '\n",
      "  '0.000*\"deze_rechten\" + 0.000*\"deze_maatregelen\" + 0.000*\"daarvan\"'),\n",
      " (11,\n",
      "  '0.064*\"regulation\" + 0.063*\"article\" + 0.027*\"decision\" + 0.017*\"implement\" '\n",
      "  '+ 0.016*\"state\" + 0.015*\"member\" + 0.015*\"follow\" + 0.014*\"directive\" + '\n",
      "  '0.013*\"accordance\" + 0.012*\"amend\"'),\n",
      " (12,\n",
      "  '0.020*\"vehicle\" + 0.017*\"system\" + 0.016*\"follow\" + 0.015*\"test\" + '\n",
      "  '0.013*\"type\" + 0.011*\"requirement\" + 0.010*\"equipment\" + 0.010*\"control\" + '\n",
      "  '0.009*\"approval\" + 0.008*\"specify\"'),\n",
      " (13,\n",
      "  '0.102*\"add\" + 0.050*\"seed\" + 0.044*\"oil\" + 0.027*\"fruit\" + 0.026*\"other\" + '\n",
      "  '0.025*\"crop\" + 0.025*\"extract\" + 0.024*\"vegetable\" + 0.017*\"plant\" + '\n",
      "  '0.015*\"root\"'),\n",
      " (14,\n",
      "  '0.034*\"product\" + 0.021*\"animal\" + 0.013*\"food\" + 0.011*\"plant\" + '\n",
      "  '0.010*\"feed\" + 0.009*\"risk\" + 0.009*\"country\" + 0.009*\"substance\" + '\n",
      "  '0.008*\"number\" + 0.007*\"control\"'),\n",
      " (15,\n",
      "  '0.023*\"energy\" + 0.018*\"emission\" + 0.018*\"member\" + 0.017*\"article\" + '\n",
      "  '0.017*\"state\" + 0.012*\"directive\" + 0.012*\"operator\" + 0.010*\"plan\" + '\n",
      "  '0.010*\"include\" + 0.010*\"report\"'),\n",
      " (16,\n",
      "  '0.044*\"holder\" + 0.033*\"concession\" + 0.031*\"right\" + 0.030*\"hydrocarbon\" + '\n",
      "  '0.024*\"fee\" + 0.022*\"tender\" + 0.022*\"agreement\" + 0.016*\"section\" + '\n",
      "  '0.015*\"gas\" + 0.015*\"date\"'),\n",
      " (17,\n",
      "  '0.009*\"market\" + 0.008*\"state\" + 0.008*\"policy\" + 0.007*\"need\" + '\n",
      "  '0.007*\"level\" + 0.006*\"member\" + 0.006*\"also\" + 0.006*\"support\" + '\n",
      "  '0.006*\"ensure\" + 0.006*\"european\"'),\n",
      " (18,\n",
      "  '0.040*\"case\" + 0.028*\"article\" + 0.018*\"court\" + 0.017*\"proceeding\" + '\n",
      "  '0.016*\"law\" + 0.016*\"decision\" + 0.016*\"applicant\" + 0.016*\"regulation\" + '\n",
      "  '0.015*\"order\" + 0.014*\"party\"'),\n",
      " (19,\n",
      "  '0.024*\"credit\" + 0.021*\"financial\" + 0.018*\"asset\" + 0.018*\"value\" + '\n",
      "  '0.018*\"risk\" + 0.017*\"amount\" + 0.013*\"member\" + 0.013*\"institution\" + '\n",
      "  '0.013*\"report\" + 0.013*\"entity\"')]\n"
     ]
    }
   ],
   "metadata": {}
  },
  {
   "cell_type": "code",
   "execution_count": 27,
   "source": [
    "def format_topics_sentences(ldamodel=lda_model, corpus=corpus, texts=data):\n",
    "    # Init output\n",
    "    sent_topics_df = pd.DataFrame()\n",
    "\n",
    "    # Get main topic in each document\n",
    "    for i, row in enumerate(ldamodel[corpus]):\n",
    "        #row = sorted(row, key=lambda x: (x[0]), reverse=True)\n",
    "        topics = sorted(row[0], key=lambda x: (x[1]), reverse=True)\n",
    "        #print(f\"topics {topics}\")\n",
    "        # Get the Dominant topic, Perc Contribution and Keywords for each document\n",
    "        for j, (topic_num, prop_topic) in enumerate(topics):\n",
    "            if j == topics[0][0]:  # => dominant topic\n",
    "                wp = ldamodel.show_topic(topic_num)\n",
    "                topic_keywords = \", \".join([word for word, prop in wp])\n",
    "                sent_topics_df = sent_topics_df.append(pd.Series([int(topic_num), round(prop_topic,4), topic_keywords]), ignore_index=True)\n",
    "            else:\n",
    "                continue\n",
    "    sent_topics_df.columns = ['Dominant_Topic', 'Perc_Contribution', 'Topic_Keywords']\n",
    "\n",
    "    # Add original text to the end of the output\n",
    "    contents = pd.Series(texts)\n",
    "    sent_topics_df = pd.concat([sent_topics_df, contents], axis=1)\n",
    "    return(sent_topics_df)\n",
    "\n",
    "\n",
    "df_topic_sents_keywords = format_topics_sentences(ldamodel=optimal_model, corpus=corpus, texts=data)\n",
    "\n",
    "# Format\n",
    "df_dominant_topic = df_topic_sents_keywords.reset_index()\n",
    "df_dominant_topic.columns = ['Document_No', 'Dominant_Topic', 'Topic_Perc_Contrib', 'Keywords', 'Text']\n",
    "\n",
    "# Show\n",
    "df_dominant_topic.head(10)"
   ],
   "outputs": [
    {
     "output_type": "execute_result",
     "data": {
      "text/html": [
       "<div>\n",
       "<style scoped>\n",
       "    .dataframe tbody tr th:only-of-type {\n",
       "        vertical-align: middle;\n",
       "    }\n",
       "\n",
       "    .dataframe tbody tr th {\n",
       "        vertical-align: top;\n",
       "    }\n",
       "\n",
       "    .dataframe thead th {\n",
       "        text-align: right;\n",
       "    }\n",
       "</style>\n",
       "<table border=\"1\" class=\"dataframe\">\n",
       "  <thead>\n",
       "    <tr style=\"text-align: right;\">\n",
       "      <th></th>\n",
       "      <th>Document_No</th>\n",
       "      <th>Dominant_Topic</th>\n",
       "      <th>Topic_Perc_Contrib</th>\n",
       "      <th>Keywords</th>\n",
       "      <th>Text</th>\n",
       "    </tr>\n",
       "  </thead>\n",
       "  <tbody>\n",
       "    <tr>\n",
       "      <th>0</th>\n",
       "      <td>0</td>\n",
       "      <td>0.0</td>\n",
       "      <td>0.8049</td>\n",
       "      <td>service, information, datum, member, authority...</td>\n",
       "      <td>Official Journal C 1/2020 ISSN 1977-091X Offi...</td>\n",
       "    </tr>\n",
       "    <tr>\n",
       "      <th>1</th>\n",
       "      <td>1</td>\n",
       "      <td>3.0</td>\n",
       "      <td>0.1516</td>\n",
       "      <td>code, name, incl, number, date, type, text, go...</td>\n",
       "      <td>Official Journal C 2/2020 ISSN 1977-091X Offi...</td>\n",
       "    </tr>\n",
       "    <tr>\n",
       "      <th>2</th>\n",
       "      <td>2</td>\n",
       "      <td>0.0</td>\n",
       "      <td>0.0229</td>\n",
       "      <td>service, information, datum, member, authority...</td>\n",
       "      <td>Official Journal C 3/2020 ISSN 1977-091X Offi...</td>\n",
       "    </tr>\n",
       "    <tr>\n",
       "      <th>3</th>\n",
       "      <td>3</td>\n",
       "      <td>0.0</td>\n",
       "      <td>0.0451</td>\n",
       "      <td>service, information, datum, member, authority...</td>\n",
       "      <td>Official Journal C 3A/2020 ISSN 1977-091X Off...</td>\n",
       "    </tr>\n",
       "    <tr>\n",
       "      <th>4</th>\n",
       "      <td>4</td>\n",
       "      <td>9.0</td>\n",
       "      <td>0.0532</td>\n",
       "      <td>wine, origin, protected_designation, product, ...</td>\n",
       "      <td>Official Journal C 4/2020 ISSN 1977-091X Offi...</td>\n",
       "    </tr>\n",
       "    <tr>\n",
       "      <th>5</th>\n",
       "      <td>5</td>\n",
       "      <td>0.0</td>\n",
       "      <td>0.2497</td>\n",
       "      <td>service, information, datum, member, authority...</td>\n",
       "      <td>Official Journal C 5/2020 ISSN 1977-091X Offi...</td>\n",
       "    </tr>\n",
       "    <tr>\n",
       "      <th>6</th>\n",
       "      <td>6</td>\n",
       "      <td>3.0</td>\n",
       "      <td>0.2772</td>\n",
       "      <td>code, name, incl, number, date, type, text, go...</td>\n",
       "      <td>Official Journal C 6/2020 ISSN 1977-091X Offi...</td>\n",
       "    </tr>\n",
       "    <tr>\n",
       "      <th>7</th>\n",
       "      <td>7</td>\n",
       "      <td>3.0</td>\n",
       "      <td>0.0144</td>\n",
       "      <td>code, name, incl, number, date, type, text, go...</td>\n",
       "      <td>Official Journal C 7/2020 ISSN 1977-091X Offi...</td>\n",
       "    </tr>\n",
       "    <tr>\n",
       "      <th>8</th>\n",
       "      <td>8</td>\n",
       "      <td>6.0</td>\n",
       "      <td>0.0107</td>\n",
       "      <td>vote, rule, resolution, follow, committee, gro...</td>\n",
       "      <td>Official Journal C 8/2020 ISSN 1977-091X Offi...</td>\n",
       "    </tr>\n",
       "    <tr>\n",
       "      <th>9</th>\n",
       "      <td>9</td>\n",
       "      <td>3.0</td>\n",
       "      <td>0.2530</td>\n",
       "      <td>code, name, incl, number, date, type, text, go...</td>\n",
       "      <td>Official Journal C 9/2020 ISSN 1977-091X Offi...</td>\n",
       "    </tr>\n",
       "  </tbody>\n",
       "</table>\n",
       "</div>"
      ],
      "text/plain": [
       "   Document_No  Dominant_Topic  Topic_Perc_Contrib  \\\n",
       "0            0             0.0              0.8049   \n",
       "1            1             3.0              0.1516   \n",
       "2            2             0.0              0.0229   \n",
       "3            3             0.0              0.0451   \n",
       "4            4             9.0              0.0532   \n",
       "5            5             0.0              0.2497   \n",
       "6            6             3.0              0.2772   \n",
       "7            7             3.0              0.0144   \n",
       "8            8             6.0              0.0107   \n",
       "9            9             3.0              0.2530   \n",
       "\n",
       "                                            Keywords  \\\n",
       "0  service, information, datum, member, authority...   \n",
       "1  code, name, incl, number, date, type, text, go...   \n",
       "2  service, information, datum, member, authority...   \n",
       "3  service, information, datum, member, authority...   \n",
       "4  wine, origin, protected_designation, product, ...   \n",
       "5  service, information, datum, member, authority...   \n",
       "6  code, name, incl, number, date, type, text, go...   \n",
       "7  code, name, incl, number, date, type, text, go...   \n",
       "8  vote, rule, resolution, follow, committee, gro...   \n",
       "9  code, name, incl, number, date, type, text, go...   \n",
       "\n",
       "                                                Text  \n",
       "0   Official Journal C 1/2020 ISSN 1977-091X Offi...  \n",
       "1   Official Journal C 2/2020 ISSN 1977-091X Offi...  \n",
       "2   Official Journal C 3/2020 ISSN 1977-091X Offi...  \n",
       "3   Official Journal C 3A/2020 ISSN 1977-091X Off...  \n",
       "4   Official Journal C 4/2020 ISSN 1977-091X Offi...  \n",
       "5   Official Journal C 5/2020 ISSN 1977-091X Offi...  \n",
       "6   Official Journal C 6/2020 ISSN 1977-091X Offi...  \n",
       "7   Official Journal C 7/2020 ISSN 1977-091X Offi...  \n",
       "8   Official Journal C 8/2020 ISSN 1977-091X Offi...  \n",
       "9   Official Journal C 9/2020 ISSN 1977-091X Offi...  "
      ]
     },
     "metadata": {},
     "execution_count": 27
    }
   ],
   "metadata": {}
  },
  {
   "cell_type": "code",
   "execution_count": null,
   "source": [
    "# Visualize the optimal number of topics \n",
    "pyLDAvis.enable_notebook()\n",
    "vis = pyLDAvis.gensim_models.prepare(optimal_model, corpus, id2word)\n",
    "vis"
   ],
   "outputs": [],
   "metadata": {}
  },
  {
   "cell_type": "code",
   "execution_count": 29,
   "source": [
    "df_dominant_topic.to_csv('data/dominant_topics_18-20.csv')"
   ],
   "outputs": [],
   "metadata": {}
  },
  {
   "cell_type": "code",
   "execution_count": 35,
   "source": [
    "df_dominant_topic.count()"
   ],
   "outputs": [
    {
     "output_type": "execute_result",
     "data": {
      "text/plain": [
       "Document_No           2821\n",
       "Dominant_Topic         857\n",
       "Topic_Perc_Contrib     857\n",
       "Keywords               857\n",
       "Text                  2821\n",
       "dtype: int64"
      ]
     },
     "metadata": {},
     "execution_count": 35
    }
   ],
   "metadata": {}
  },
  {
   "cell_type": "code",
   "execution_count": 52,
   "source": [
    "df_dominant_topic.groupby(['Dominant_Topic'], dropna=False).Text.count().reset_index()"
   ],
   "outputs": [
    {
     "output_type": "execute_result",
     "data": {
      "text/html": [
       "<div>\n",
       "<style scoped>\n",
       "    .dataframe tbody tr th:only-of-type {\n",
       "        vertical-align: middle;\n",
       "    }\n",
       "\n",
       "    .dataframe tbody tr th {\n",
       "        vertical-align: top;\n",
       "    }\n",
       "\n",
       "    .dataframe thead th {\n",
       "        text-align: right;\n",
       "    }\n",
       "</style>\n",
       "<table border=\"1\" class=\"dataframe\">\n",
       "  <thead>\n",
       "    <tr style=\"text-align: right;\">\n",
       "      <th></th>\n",
       "      <th>Dominant_Topic</th>\n",
       "      <th>Text</th>\n",
       "    </tr>\n",
       "  </thead>\n",
       "  <tbody>\n",
       "    <tr>\n",
       "      <th>0</th>\n",
       "      <td>0.0</td>\n",
       "      <td>364</td>\n",
       "    </tr>\n",
       "    <tr>\n",
       "      <th>1</th>\n",
       "      <td>1.0</td>\n",
       "      <td>32</td>\n",
       "    </tr>\n",
       "    <tr>\n",
       "      <th>2</th>\n",
       "      <td>2.0</td>\n",
       "      <td>21</td>\n",
       "    </tr>\n",
       "    <tr>\n",
       "      <th>3</th>\n",
       "      <td>3.0</td>\n",
       "      <td>110</td>\n",
       "    </tr>\n",
       "    <tr>\n",
       "      <th>4</th>\n",
       "      <td>4.0</td>\n",
       "      <td>23</td>\n",
       "    </tr>\n",
       "    <tr>\n",
       "      <th>5</th>\n",
       "      <td>5.0</td>\n",
       "      <td>23</td>\n",
       "    </tr>\n",
       "    <tr>\n",
       "      <th>6</th>\n",
       "      <td>6.0</td>\n",
       "      <td>8</td>\n",
       "    </tr>\n",
       "    <tr>\n",
       "      <th>7</th>\n",
       "      <td>7.0</td>\n",
       "      <td>24</td>\n",
       "    </tr>\n",
       "    <tr>\n",
       "      <th>8</th>\n",
       "      <td>9.0</td>\n",
       "      <td>16</td>\n",
       "    </tr>\n",
       "    <tr>\n",
       "      <th>9</th>\n",
       "      <td>11.0</td>\n",
       "      <td>42</td>\n",
       "    </tr>\n",
       "    <tr>\n",
       "      <th>10</th>\n",
       "      <td>12.0</td>\n",
       "      <td>30</td>\n",
       "    </tr>\n",
       "    <tr>\n",
       "      <th>11</th>\n",
       "      <td>13.0</td>\n",
       "      <td>10</td>\n",
       "    </tr>\n",
       "    <tr>\n",
       "      <th>12</th>\n",
       "      <td>14.0</td>\n",
       "      <td>33</td>\n",
       "    </tr>\n",
       "    <tr>\n",
       "      <th>13</th>\n",
       "      <td>15.0</td>\n",
       "      <td>27</td>\n",
       "    </tr>\n",
       "    <tr>\n",
       "      <th>14</th>\n",
       "      <td>16.0</td>\n",
       "      <td>6</td>\n",
       "    </tr>\n",
       "    <tr>\n",
       "      <th>15</th>\n",
       "      <td>17.0</td>\n",
       "      <td>34</td>\n",
       "    </tr>\n",
       "    <tr>\n",
       "      <th>16</th>\n",
       "      <td>18.0</td>\n",
       "      <td>23</td>\n",
       "    </tr>\n",
       "    <tr>\n",
       "      <th>17</th>\n",
       "      <td>19.0</td>\n",
       "      <td>31</td>\n",
       "    </tr>\n",
       "    <tr>\n",
       "      <th>18</th>\n",
       "      <td>NaN</td>\n",
       "      <td>1964</td>\n",
       "    </tr>\n",
       "  </tbody>\n",
       "</table>\n",
       "</div>"
      ],
      "text/plain": [
       "    Dominant_Topic  Text\n",
       "0              0.0   364\n",
       "1              1.0    32\n",
       "2              2.0    21\n",
       "3              3.0   110\n",
       "4              4.0    23\n",
       "5              5.0    23\n",
       "6              6.0     8\n",
       "7              7.0    24\n",
       "8              9.0    16\n",
       "9             11.0    42\n",
       "10            12.0    30\n",
       "11            13.0    10\n",
       "12            14.0    33\n",
       "13            15.0    27\n",
       "14            16.0     6\n",
       "15            17.0    34\n",
       "16            18.0    23\n",
       "17            19.0    31\n",
       "18             NaN  1964"
      ]
     },
     "metadata": {},
     "execution_count": 52
    }
   ],
   "metadata": {}
  },
  {
   "cell_type": "code",
   "execution_count": 55,
   "source": [
    "int(857/2821 * 100)"
   ],
   "outputs": [
    {
     "output_type": "execute_result",
     "data": {
      "text/plain": [
       "30"
      ]
     },
     "metadata": {},
     "execution_count": 55
    }
   ],
   "metadata": {}
  },
  {
   "cell_type": "markdown",
   "source": [],
   "metadata": {}
  }
 ],
 "metadata": {
  "orig_nbformat": 4,
  "language_info": {
   "name": "python",
   "version": "3.8.8",
   "mimetype": "text/x-python",
   "codemirror_mode": {
    "name": "ipython",
    "version": 3
   },
   "pygments_lexer": "ipython3",
   "nbconvert_exporter": "python",
   "file_extension": ".py"
  },
  "kernelspec": {
   "name": "python3",
   "display_name": "Python 3.8.8 64-bit ('oj': venv)"
  },
  "interpreter": {
   "hash": "457ba83f6d0c0b6c45de610d6fca27563545850292954cd40d8d6f79a65dc020"
  }
 },
 "nbformat": 4,
 "nbformat_minor": 2
}