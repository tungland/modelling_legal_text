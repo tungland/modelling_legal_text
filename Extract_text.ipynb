{
 "cells": [
  {
   "cell_type": "markdown",
   "source": [
    "# Extract text\n",
    "This notebook extracts text from xml"
   ],
   "metadata": {}
  },
  {
   "cell_type": "code",
   "execution_count": 4,
   "source": [
    "import pandas as pd\n",
    "from bs4 import BeautifulSoup as bs\n",
    "import glob"
   ],
   "outputs": [],
   "metadata": {}
  },
  {
   "cell_type": "code",
   "execution_count": 6,
   "source": [
    "filepaths = []\n",
    "for filepath in glob.iglob(r'OJ_data/*/*', recursive=True ):\n",
    "    print (filepath)\n",
    "    filepaths.append(filepath)"
   ],
   "outputs": [
    {
     "output_type": "stream",
     "name": "stdout",
     "text": [
      "OJ_data/2020/c_entries_20.csv\n",
      "OJ_data/2020/l_entries_20.csv\n",
      "OJ_data/2019/c_texts_2019.csv\n",
      "OJ_data/2019/legislation_text_2019.csv\n",
      "OJ_data/2018/c_entries_18.csv\n",
      "OJ_data/2018/l_entries_18.csv\n"
     ]
    }
   ],
   "metadata": {}
  },
  {
   "cell_type": "code",
   "execution_count": 7,
   "source": [
    "dct = {}\n",
    "for file in filepaths:\n",
    "    dct[file] = pd.read_csv(file, index_col=0)"
   ],
   "outputs": [],
   "metadata": {}
  },
  {
   "cell_type": "code",
   "execution_count": 8,
   "source": [
    "dct.keys()"
   ],
   "outputs": [
    {
     "output_type": "execute_result",
     "data": {
      "text/plain": [
       "dict_keys(['OJ_data/2020/c_entries_20.csv', 'OJ_data/2020/l_entries_20.csv', 'OJ_data/2019/c_texts_2019.csv', 'OJ_data/2019/legislation_text_2019.csv', 'OJ_data/2018/c_entries_18.csv', 'OJ_data/2018/l_entries_18.csv'])"
      ]
     },
     "metadata": {},
     "execution_count": 8
    }
   ],
   "metadata": {}
  },
  {
   "cell_type": "code",
   "execution_count": 9,
   "source": [
    "dct['OJ_data/2020/l_entries_20.csv']['1']"
   ],
   "outputs": [
    {
     "output_type": "execute_result",
     "data": {
      "text/plain": [
       "0      <html xmlns=\"http://www.w3.org/1999/xhtml\"><!-...\n",
       "1      <html xmlns=\"http://www.w3.org/1999/xhtml\"><!-...\n",
       "2      <html xmlns=\"http://www.w3.org/1999/xhtml\"><!-...\n",
       "3      <html xmlns=\"http://www.w3.org/1999/xhtml\"><!-...\n",
       "4      <html xmlns=\"http://www.w3.org/1999/xhtml\"><!-...\n",
       "                             ...                        \n",
       "500    <html class=\"no-js\" lang=\"en\" xml:lang=\"en\">\\n...\n",
       "501    <html xmlns=\"http://www.w3.org/1999/xhtml\"><!-...\n",
       "502    <html xmlns=\"http://www.w3.org/1999/xhtml\"><!-...\n",
       "503    <html xmlns=\"http://www.w3.org/1999/xhtml\"><!-...\n",
       "504    <html xmlns=\"http://www.w3.org/1999/xhtml\"><!-...\n",
       "Name: 1, Length: 505, dtype: object"
      ]
     },
     "metadata": {},
     "execution_count": 9
    }
   ],
   "metadata": {}
  },
  {
   "cell_type": "code",
   "execution_count": 8,
   "source": [
    "for file in filepaths:\n",
    "    print(dct[file].columns)"
   ],
   "outputs": [
    {
     "output_type": "stream",
     "name": "stdout",
     "text": [
      "Index(['0', '1'], dtype='object')\n",
      "Index(['0', '1'], dtype='object')\n",
      "Index(['0', '1', 'text'], dtype='object')\n",
      "Index(['0', '1', 'texts'], dtype='object')\n",
      "Index(['0', '1'], dtype='object')\n",
      "Index(['0', '1'], dtype='object')\n"
     ]
    }
   ],
   "metadata": {}
  },
  {
   "cell_type": "code",
   "execution_count": 20,
   "source": [
    "# Parse xml and add text to new columns\n",
    "for file in filepaths:\n",
    "    dct[file]['texts'] = dct[file]['1'].apply(lambda x : bs(x, 'xml').text)"
   ],
   "outputs": [
    {
     "output_type": "stream",
     "name": "stdout",
     "text": [
      "OJ_data/2020/c_entries_20.csv\n",
      "OJ_data/2020/l_entries_20.csv\n",
      "OJ_data/2019/c_texts_2019.csv\n",
      "OJ_data/2019/legislation_text_2019.csv\n",
      "OJ_data/2018/c_entries_18.csv\n",
      "OJ_data/2018/l_entries_18.csv\n"
     ]
    }
   ],
   "metadata": {}
  },
  {
   "cell_type": "code",
   "execution_count": 14,
   "source": [
    "dct['OJ_data/2019/c_texts_2019.csv'].columns"
   ],
   "outputs": [
    {
     "output_type": "execute_result",
     "data": {
      "text/plain": [
       "Index(['0', '1', 'texts'], dtype='object')"
      ]
     },
     "metadata": {},
     "execution_count": 14
    }
   ],
   "metadata": {}
  },
  {
   "cell_type": "code",
   "execution_count": 13,
   "source": [
    "dct['OJ_data/2019/c_texts_2019.csv'] = dct['OJ_data/2019/c_texts_2019.csv'].drop(columns = ['text'])"
   ],
   "outputs": [],
   "metadata": {}
  },
  {
   "cell_type": "code",
   "execution_count": 15,
   "source": [
    "for file in filepaths:\n",
    "    print(dct[file].columns)"
   ],
   "outputs": [
    {
     "output_type": "stream",
     "name": "stdout",
     "text": [
      "Index(['0', '1', 'texts'], dtype='object')\n",
      "Index(['0', '1', 'texts'], dtype='object')\n",
      "Index(['0', '1', 'texts'], dtype='object')\n",
      "Index(['0', '1', 'texts'], dtype='object')\n",
      "Index(['0', '1', 'texts'], dtype='object')\n",
      "Index(['0', '1', 'texts'], dtype='object')\n"
     ]
    }
   ],
   "metadata": {}
  },
  {
   "cell_type": "code",
   "execution_count": 16,
   "source": [
    "for file in filepaths:\n",
    "    print(file)\n",
    "    dct[file].columns = ['head', 'xml', 'text']"
   ],
   "outputs": [
    {
     "output_type": "stream",
     "name": "stdout",
     "text": [
      "OJ_data/2020/c_entries_20.csv\n",
      "OJ_data/2020/l_entries_20.csv\n",
      "OJ_data/2019/c_texts_2019.csv\n",
      "OJ_data/2019/legislation_text_2019.csv\n",
      "OJ_data/2018/c_entries_18.csv\n",
      "OJ_data/2018/l_entries_18.csv\n"
     ]
    }
   ],
   "metadata": {}
  },
  {
   "cell_type": "code",
   "execution_count": 17,
   "source": [
    "for file in filepaths:\n",
    "    print(dct[file].columns)"
   ],
   "outputs": [
    {
     "output_type": "stream",
     "name": "stdout",
     "text": [
      "Index(['head', 'xml', 'text'], dtype='object')\n",
      "Index(['head', 'xml', 'text'], dtype='object')\n",
      "Index(['head', 'xml', 'text'], dtype='object')\n",
      "Index(['head', 'xml', 'text'], dtype='object')\n",
      "Index(['head', 'xml', 'text'], dtype='object')\n",
      "Index(['head', 'xml', 'text'], dtype='object')\n"
     ]
    }
   ],
   "metadata": {}
  },
  {
   "cell_type": "code",
   "execution_count": 18,
   "source": [
    "for file in filepaths:\n",
    "    dct[file].to_csv(file)"
   ],
   "outputs": [],
   "metadata": {}
  },
  {
   "cell_type": "code",
   "execution_count": null,
   "source": [],
   "outputs": [],
   "metadata": {}
  }
 ],
 "metadata": {
  "orig_nbformat": 4,
  "language_info": {
   "name": "python",
   "version": "3.8.8",
   "mimetype": "text/x-python",
   "codemirror_mode": {
    "name": "ipython",
    "version": 3
   },
   "pygments_lexer": "ipython3",
   "nbconvert_exporter": "python",
   "file_extension": ".py"
  },
  "kernelspec": {
   "name": "python3",
   "display_name": "Python 3.8.8 64-bit ('oj': venv)"
  },
  "interpreter": {
   "hash": "457ba83f6d0c0b6c45de610d6fca27563545850292954cd40d8d6f79a65dc020"
  }
 },
 "nbformat": 4,
 "nbformat_minor": 2
}